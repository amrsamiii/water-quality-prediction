{
 "cells": [
  {
   "cell_type": "markdown",
   "id": "546ec182",
   "metadata": {
    "papermill": {
     "duration": 0.014614,
     "end_time": "2023-03-14T12:52:26.162556",
     "exception": false,
     "start_time": "2023-03-14T12:52:26.147942",
     "status": "completed"
    },
    "tags": []
   },
   "source": [
    "# Water Quality Explanatory Data Analysis"
   ]
  },
  {
   "cell_type": "code",
   "execution_count": 1,
   "id": "efc59f2c",
   "metadata": {
    "_cell_guid": "b1076dfc-b9ad-4769-8c92-a6c4dae69d19",
    "_uuid": "8f2839f25d086af736a60e9eeb907d3b93b6e0e5",
    "execution": {
     "iopub.execute_input": "2023-03-14T12:52:26.294802Z",
     "iopub.status.busy": "2023-03-14T12:52:26.294455Z",
     "iopub.status.idle": "2023-03-14T12:52:29.571718Z",
     "shell.execute_reply": "2023-03-14T12:52:29.569982Z"
    },
    "papermill": {
     "duration": 3.294562,
     "end_time": "2023-03-14T12:52:29.574590",
     "exception": false,
     "start_time": "2023-03-14T12:52:26.280028",
     "status": "completed"
    },
    "tags": []
   },
   "outputs": [],
   "source": [
    "import numpy as np # linear algebra\n",
    "import pandas as pd # data processing, CSV file I/O (e.g. pd.read_csv)\n",
    "import seaborn as sns\n",
    "import matplotlib.pyplot as plt\n",
    "import plotly.express as px\n",
    "import os\n",
    "from sklearn.tree import DecisionTreeClassifier\n",
    "from sklearn.ensemble import RandomForestClassifier, GradientBoostingRegressor\n",
    "from sklearn.model_selection import RandomizedSearchCV, RepeatedStratifiedKFold, train_test_split\n",
    "from sklearn.metrics import precision_score, confusion_matrix\n",
    "from sklearn import tree\n",
    "from sklearn.linear_model import LinearRegression\n",
    "from sklearn.svm import SVR\n",
    "from sklearn.neighbors import KNeighborsRegressor\n",
    "from sklearn.linear_model import LogisticRegression\n",
    "from sklearn.model_selection import train_test_split\n",
    "from sklearn.metrics import accuracy_score\n",
    "from sklearn.model_selection import GridSearchCV\n",
    "from collections import Counter\n",
    "from sklearn.datasets import make_classification\n",
    "from imblearn.over_sampling import SMOTE\n",
    "from imblearn.under_sampling import RandomUnderSampler\n",
    "from imblearn.pipeline import Pipeline\n",
    "from matplotlib import pyplot\n",
    "from numpy import where\n",
    "\n",
    "import csv\n",
    "import random"
   ]
  },
  {
   "cell_type": "code",
   "execution_count": 2,
   "id": "97b67bcd",
   "metadata": {
    "execution": {
     "iopub.execute_input": "2023-03-14T12:52:29.658579Z",
     "iopub.status.busy": "2023-03-14T12:52:29.658223Z",
     "iopub.status.idle": "2023-03-14T12:52:29.714994Z",
     "shell.execute_reply": "2023-03-14T12:52:29.713935Z"
    },
    "papermill": {
     "duration": 0.074099,
     "end_time": "2023-03-14T12:52:29.717396",
     "exception": false,
     "start_time": "2023-03-14T12:52:29.643297",
     "status": "completed"
    },
    "tags": []
   },
   "outputs": [
    {
     "data": {
      "text/html": [
       "<div>\n",
       "<style scoped>\n",
       "    .dataframe tbody tr th:only-of-type {\n",
       "        vertical-align: middle;\n",
       "    }\n",
       "\n",
       "    .dataframe tbody tr th {\n",
       "        vertical-align: top;\n",
       "    }\n",
       "\n",
       "    .dataframe thead th {\n",
       "        text-align: right;\n",
       "    }\n",
       "</style>\n",
       "<table border=\"1\" class=\"dataframe\">\n",
       "  <thead>\n",
       "    <tr style=\"text-align: right;\">\n",
       "      <th></th>\n",
       "      <th>ph</th>\n",
       "      <th>Hardness</th>\n",
       "      <th>Solids</th>\n",
       "      <th>Chloramines</th>\n",
       "      <th>Sulfate</th>\n",
       "      <th>Conductivity</th>\n",
       "      <th>Organic_carbon</th>\n",
       "      <th>Trihalomethanes</th>\n",
       "      <th>Turbidity</th>\n",
       "      <th>Potability</th>\n",
       "    </tr>\n",
       "  </thead>\n",
       "  <tbody>\n",
       "    <tr>\n",
       "      <th>0</th>\n",
       "      <td>7.220166</td>\n",
       "      <td>204.768391</td>\n",
       "      <td>15658.086280</td>\n",
       "      <td>3.842732</td>\n",
       "      <td>NaN</td>\n",
       "      <td>407.375047</td>\n",
       "      <td>15.150582</td>\n",
       "      <td>64.989116</td>\n",
       "      <td>4.398685</td>\n",
       "      <td>0</td>\n",
       "    </tr>\n",
       "    <tr>\n",
       "      <th>1</th>\n",
       "      <td>6.047651</td>\n",
       "      <td>177.444264</td>\n",
       "      <td>28633.846385</td>\n",
       "      <td>8.174385</td>\n",
       "      <td>NaN</td>\n",
       "      <td>386.661205</td>\n",
       "      <td>15.514930</td>\n",
       "      <td>30.556310</td>\n",
       "      <td>2.589868</td>\n",
       "      <td>0</td>\n",
       "    </tr>\n",
       "    <tr>\n",
       "      <th>2</th>\n",
       "      <td>9.776932</td>\n",
       "      <td>213.915080</td>\n",
       "      <td>23971.989519</td>\n",
       "      <td>9.603302</td>\n",
       "      <td>293.825008</td>\n",
       "      <td>507.016573</td>\n",
       "      <td>16.066561</td>\n",
       "      <td>82.860936</td>\n",
       "      <td>2.569468</td>\n",
       "      <td>1</td>\n",
       "    </tr>\n",
       "    <tr>\n",
       "      <th>3</th>\n",
       "      <td>7.580049</td>\n",
       "      <td>225.088555</td>\n",
       "      <td>31749.924396</td>\n",
       "      <td>5.884795</td>\n",
       "      <td>NaN</td>\n",
       "      <td>503.908733</td>\n",
       "      <td>18.502406</td>\n",
       "      <td>78.354341</td>\n",
       "      <td>3.959637</td>\n",
       "      <td>1</td>\n",
       "    </tr>\n",
       "    <tr>\n",
       "      <th>4</th>\n",
       "      <td>NaN</td>\n",
       "      <td>180.893036</td>\n",
       "      <td>17705.608616</td>\n",
       "      <td>6.223312</td>\n",
       "      <td>350.195253</td>\n",
       "      <td>447.937123</td>\n",
       "      <td>10.461025</td>\n",
       "      <td>32.074863</td>\n",
       "      <td>3.999125</td>\n",
       "      <td>0</td>\n",
       "    </tr>\n",
       "  </tbody>\n",
       "</table>\n",
       "</div>"
      ],
      "text/plain": [
       "         ph    Hardness        Solids  Chloramines     Sulfate  Conductivity  \\\n",
       "0  7.220166  204.768391  15658.086280     3.842732         NaN    407.375047   \n",
       "1  6.047651  177.444264  28633.846385     8.174385         NaN    386.661205   \n",
       "2  9.776932  213.915080  23971.989519     9.603302  293.825008    507.016573   \n",
       "3  7.580049  225.088555  31749.924396     5.884795         NaN    503.908733   \n",
       "4       NaN  180.893036  17705.608616     6.223312  350.195253    447.937123   \n",
       "\n",
       "   Organic_carbon  Trihalomethanes  Turbidity  Potability  \n",
       "0       15.150582        64.989116   4.398685           0  \n",
       "1       15.514930        30.556310   2.589868           0  \n",
       "2       16.066561        82.860936   2.569468           1  \n",
       "3       18.502406        78.354341   3.959637           1  \n",
       "4       10.461025        32.074863   3.999125           0  "
      ]
     },
     "execution_count": 2,
     "metadata": {},
     "output_type": "execute_result"
    }
   ],
   "source": [
    "\n",
    "\n",
    "\n",
    "# Open the CSV file and read its contents into a list of rows\n",
    "with open('D:/downloads/water_potability.csv', 'r') as file:\n",
    "    reader = csv.reader(file)\n",
    "    rows = list(reader)\n",
    "\n",
    "header = rows[0] # Store the header row\n",
    "data = rows[1:] # Store the data\n",
    "\n",
    "# Shuffle the data using the random library\n",
    "random.shuffle(data)\n",
    "\n",
    "# Write the shuffled data plus header row back out to a new CSV file\n",
    "with open('shuffled_cleaned_water_potability.csv', 'w', newline='') as file:\n",
    "    writer = csv.writer(file)\n",
    "    writer.writerow(header)\n",
    "    writer.writerows(data)  \n",
    "df = pd.read_csv(\"shuffled_cleaned_water_potability.csv\")\n",
    "df.head()"
   ]
  },
  {
   "cell_type": "code",
   "execution_count": 3,
   "id": "862703dc",
   "metadata": {
    "execution": {
     "iopub.execute_input": "2023-03-14T12:52:29.746952Z",
     "iopub.status.busy": "2023-03-14T12:52:29.746574Z",
     "iopub.status.idle": "2023-03-14T12:52:29.794969Z",
     "shell.execute_reply": "2023-03-14T12:52:29.793837Z"
    },
    "papermill": {
     "duration": 0.06602,
     "end_time": "2023-03-14T12:52:29.797431",
     "exception": false,
     "start_time": "2023-03-14T12:52:29.731411",
     "status": "completed"
    },
    "tags": []
   },
   "outputs": [
    {
     "data": {
      "text/html": [
       "<div>\n",
       "<style scoped>\n",
       "    .dataframe tbody tr th:only-of-type {\n",
       "        vertical-align: middle;\n",
       "    }\n",
       "\n",
       "    .dataframe tbody tr th {\n",
       "        vertical-align: top;\n",
       "    }\n",
       "\n",
       "    .dataframe thead th {\n",
       "        text-align: right;\n",
       "    }\n",
       "</style>\n",
       "<table border=\"1\" class=\"dataframe\">\n",
       "  <thead>\n",
       "    <tr style=\"text-align: right;\">\n",
       "      <th></th>\n",
       "      <th>ph</th>\n",
       "      <th>Hardness</th>\n",
       "      <th>Solids</th>\n",
       "      <th>Chloramines</th>\n",
       "      <th>Sulfate</th>\n",
       "      <th>Conductivity</th>\n",
       "      <th>Organic_carbon</th>\n",
       "      <th>Trihalomethanes</th>\n",
       "      <th>Turbidity</th>\n",
       "      <th>Potability</th>\n",
       "    </tr>\n",
       "  </thead>\n",
       "  <tbody>\n",
       "    <tr>\n",
       "      <th>count</th>\n",
       "      <td>2785.000000</td>\n",
       "      <td>3276.000000</td>\n",
       "      <td>3276.000000</td>\n",
       "      <td>3276.000000</td>\n",
       "      <td>2495.000000</td>\n",
       "      <td>3276.000000</td>\n",
       "      <td>3276.000000</td>\n",
       "      <td>3114.000000</td>\n",
       "      <td>3276.000000</td>\n",
       "      <td>3276.000000</td>\n",
       "    </tr>\n",
       "    <tr>\n",
       "      <th>mean</th>\n",
       "      <td>7.080795</td>\n",
       "      <td>196.369496</td>\n",
       "      <td>22014.092526</td>\n",
       "      <td>7.122277</td>\n",
       "      <td>333.775777</td>\n",
       "      <td>426.205111</td>\n",
       "      <td>14.284970</td>\n",
       "      <td>66.396293</td>\n",
       "      <td>3.966786</td>\n",
       "      <td>0.390110</td>\n",
       "    </tr>\n",
       "    <tr>\n",
       "      <th>std</th>\n",
       "      <td>1.594320</td>\n",
       "      <td>32.879761</td>\n",
       "      <td>8768.570828</td>\n",
       "      <td>1.583085</td>\n",
       "      <td>41.416840</td>\n",
       "      <td>80.824064</td>\n",
       "      <td>3.308162</td>\n",
       "      <td>16.175008</td>\n",
       "      <td>0.780382</td>\n",
       "      <td>0.487849</td>\n",
       "    </tr>\n",
       "    <tr>\n",
       "      <th>min</th>\n",
       "      <td>0.000000</td>\n",
       "      <td>47.432000</td>\n",
       "      <td>320.942611</td>\n",
       "      <td>0.352000</td>\n",
       "      <td>129.000000</td>\n",
       "      <td>181.483754</td>\n",
       "      <td>2.200000</td>\n",
       "      <td>0.738000</td>\n",
       "      <td>1.450000</td>\n",
       "      <td>0.000000</td>\n",
       "    </tr>\n",
       "    <tr>\n",
       "      <th>25%</th>\n",
       "      <td>6.093092</td>\n",
       "      <td>176.850538</td>\n",
       "      <td>15666.690297</td>\n",
       "      <td>6.127421</td>\n",
       "      <td>307.699498</td>\n",
       "      <td>365.734414</td>\n",
       "      <td>12.065801</td>\n",
       "      <td>55.844536</td>\n",
       "      <td>3.439711</td>\n",
       "      <td>0.000000</td>\n",
       "    </tr>\n",
       "    <tr>\n",
       "      <th>50%</th>\n",
       "      <td>7.036752</td>\n",
       "      <td>196.967627</td>\n",
       "      <td>20927.833607</td>\n",
       "      <td>7.130299</td>\n",
       "      <td>333.073546</td>\n",
       "      <td>421.884968</td>\n",
       "      <td>14.218338</td>\n",
       "      <td>66.622485</td>\n",
       "      <td>3.955028</td>\n",
       "      <td>0.000000</td>\n",
       "    </tr>\n",
       "    <tr>\n",
       "      <th>75%</th>\n",
       "      <td>8.062066</td>\n",
       "      <td>216.667456</td>\n",
       "      <td>27332.762127</td>\n",
       "      <td>8.114887</td>\n",
       "      <td>359.950170</td>\n",
       "      <td>481.792304</td>\n",
       "      <td>16.557652</td>\n",
       "      <td>77.337473</td>\n",
       "      <td>4.500320</td>\n",
       "      <td>1.000000</td>\n",
       "    </tr>\n",
       "    <tr>\n",
       "      <th>max</th>\n",
       "      <td>14.000000</td>\n",
       "      <td>323.124000</td>\n",
       "      <td>61227.196008</td>\n",
       "      <td>13.127000</td>\n",
       "      <td>481.030642</td>\n",
       "      <td>753.342620</td>\n",
       "      <td>28.300000</td>\n",
       "      <td>124.000000</td>\n",
       "      <td>6.739000</td>\n",
       "      <td>1.000000</td>\n",
       "    </tr>\n",
       "  </tbody>\n",
       "</table>\n",
       "</div>"
      ],
      "text/plain": [
       "                ph     Hardness        Solids  Chloramines      Sulfate  \\\n",
       "count  2785.000000  3276.000000   3276.000000  3276.000000  2495.000000   \n",
       "mean      7.080795   196.369496  22014.092526     7.122277   333.775777   \n",
       "std       1.594320    32.879761   8768.570828     1.583085    41.416840   \n",
       "min       0.000000    47.432000    320.942611     0.352000   129.000000   \n",
       "25%       6.093092   176.850538  15666.690297     6.127421   307.699498   \n",
       "50%       7.036752   196.967627  20927.833607     7.130299   333.073546   \n",
       "75%       8.062066   216.667456  27332.762127     8.114887   359.950170   \n",
       "max      14.000000   323.124000  61227.196008    13.127000   481.030642   \n",
       "\n",
       "       Conductivity  Organic_carbon  Trihalomethanes    Turbidity   Potability  \n",
       "count   3276.000000     3276.000000      3114.000000  3276.000000  3276.000000  \n",
       "mean     426.205111       14.284970        66.396293     3.966786     0.390110  \n",
       "std       80.824064        3.308162        16.175008     0.780382     0.487849  \n",
       "min      181.483754        2.200000         0.738000     1.450000     0.000000  \n",
       "25%      365.734414       12.065801        55.844536     3.439711     0.000000  \n",
       "50%      421.884968       14.218338        66.622485     3.955028     0.000000  \n",
       "75%      481.792304       16.557652        77.337473     4.500320     1.000000  \n",
       "max      753.342620       28.300000       124.000000     6.739000     1.000000  "
      ]
     },
     "execution_count": 3,
     "metadata": {},
     "output_type": "execute_result"
    }
   ],
   "source": [
    "df.describe()"
   ]
  },
  {
   "cell_type": "code",
   "execution_count": 4,
   "id": "b8359c9a",
   "metadata": {
    "execution": {
     "iopub.execute_input": "2023-03-14T12:52:29.827434Z",
     "iopub.status.busy": "2023-03-14T12:52:29.827064Z",
     "iopub.status.idle": "2023-03-14T12:52:29.842184Z",
     "shell.execute_reply": "2023-03-14T12:52:29.841192Z"
    },
    "papermill": {
     "duration": 0.032273,
     "end_time": "2023-03-14T12:52:29.843971",
     "exception": false,
     "start_time": "2023-03-14T12:52:29.811698",
     "status": "completed"
    },
    "tags": []
   },
   "outputs": [
    {
     "name": "stdout",
     "output_type": "stream",
     "text": [
      "<class 'pandas.core.frame.DataFrame'>\n",
      "RangeIndex: 3276 entries, 0 to 3275\n",
      "Data columns (total 10 columns):\n",
      " #   Column           Non-Null Count  Dtype  \n",
      "---  ------           --------------  -----  \n",
      " 0   ph               2785 non-null   float64\n",
      " 1   Hardness         3276 non-null   float64\n",
      " 2   Solids           3276 non-null   float64\n",
      " 3   Chloramines      3276 non-null   float64\n",
      " 4   Sulfate          2495 non-null   float64\n",
      " 5   Conductivity     3276 non-null   float64\n",
      " 6   Organic_carbon   3276 non-null   float64\n",
      " 7   Trihalomethanes  3114 non-null   float64\n",
      " 8   Turbidity        3276 non-null   float64\n",
      " 9   Potability       3276 non-null   int64  \n",
      "dtypes: float64(9), int64(1)\n",
      "memory usage: 256.1 KB\n"
     ]
    }
   ],
   "source": [
    "df.info()"
   ]
  },
  {
   "cell_type": "code",
   "execution_count": 5,
   "id": "775b824d",
   "metadata": {
    "execution": {
     "iopub.execute_input": "2023-03-14T12:52:29.901455Z",
     "iopub.status.busy": "2023-03-14T12:52:29.901103Z",
     "iopub.status.idle": "2023-03-14T12:52:31.481737Z",
     "shell.execute_reply": "2023-03-14T12:52:31.480082Z"
    },
    "papermill": {
     "duration": 1.599017,
     "end_time": "2023-03-14T12:52:31.484602",
     "exception": false,
     "start_time": "2023-03-14T12:52:29.885585",
     "status": "completed"
    },
    "tags": []
   },
   "outputs": [],
   "source": [
    "# d = pd.DataFrame(df[\"Potability\"].value_counts())\n",
    "# fig = px.pie(d, values = \"Potability\", names = [\"Not Potable\", \"Potable\"], hole = 0.4, opacity = 0.8,\n",
    "#                                                labels = {\"label\":\"Potability\", \"Potability\":\"Number of Samples\"})\n",
    "# fig.update_layout(title = dict(text = \"Pie Chart of Potability Feature\"))\n",
    "# fig.update_traces(textposition = \"outside\", textinfo = \"percent + label\")\n",
    "# fig.show()"
   ]
  },
  {
   "cell_type": "code",
   "execution_count": 6,
   "id": "6d87e33a",
   "metadata": {
    "execution": {
     "iopub.execute_input": "2023-03-14T12:52:31.546862Z",
     "iopub.status.busy": "2023-03-14T12:52:31.546336Z",
     "iopub.status.idle": "2023-03-14T12:52:31.565590Z",
     "shell.execute_reply": "2023-03-14T12:52:31.564182Z"
    },
    "papermill": {
     "duration": 0.037643,
     "end_time": "2023-03-14T12:52:31.568109",
     "exception": false,
     "start_time": "2023-03-14T12:52:31.530466",
     "status": "completed"
    },
    "tags": []
   },
   "outputs": [],
   "source": [
    "# df.corr()"
   ]
  },
  {
   "cell_type": "code",
   "execution_count": 7,
   "id": "437d1d5e",
   "metadata": {
    "execution": {
     "iopub.execute_input": "2023-03-14T12:52:31.599064Z",
     "iopub.status.busy": "2023-03-14T12:52:31.598648Z",
     "iopub.status.idle": "2023-03-14T12:52:32.355446Z",
     "shell.execute_reply": "2023-03-14T12:52:32.354375Z"
    },
    "papermill": {
     "duration": 0.775315,
     "end_time": "2023-03-14T12:52:32.357985",
     "exception": false,
     "start_time": "2023-03-14T12:52:31.582670",
     "status": "completed"
    },
    "tags": []
   },
   "outputs": [],
   "source": [
    "# sns.clustermap(df.corr(), cmap = \"vlag\", dendrogram_ratio = (0.1, 0.2), annot = True, linewidth = 0.8, figsize = (9,10))\n",
    "# plt.show()"
   ]
  },
  {
   "cell_type": "code",
   "execution_count": 8,
   "id": "89f505bb",
   "metadata": {
    "execution": {
     "iopub.execute_input": "2023-03-14T12:52:32.425679Z",
     "iopub.status.busy": "2023-03-14T12:52:32.425097Z",
     "iopub.status.idle": "2023-03-14T12:52:34.447395Z",
     "shell.execute_reply": "2023-03-14T12:52:34.446485Z"
    },
    "papermill": {
     "duration": 2.042647,
     "end_time": "2023-03-14T12:52:34.450135",
     "exception": false,
     "start_time": "2023-03-14T12:52:32.407488",
     "status": "completed"
    },
    "tags": []
   },
   "outputs": [],
   "source": [
    "# non_potable = df.query(\"Potability == 0\")\n",
    "# potable = df.query(\"Potability == 1\")\n",
    "\n",
    "# plt.figure(figsize = (15,15))\n",
    "# for ax, col in  enumerate(df.columns[:9]):\n",
    "#     plt.subplot(3,3, ax+1)\n",
    "#     plt.title(col)\n",
    "#     sns.kdeplot(x = non_potable[col], label = \"Non Potable\")\n",
    "#     sns.kdeplot(x = potable[col], label = \"Potable\")\n",
    "#     plt.legend()\n",
    "# plt.tight_layout()"
   ]
  },
  {
   "cell_type": "code",
   "execution_count": 9,
   "id": "291ca612",
   "metadata": {},
   "outputs": [],
   "source": [
    "# pip install imbalanced-learn"
   ]
  },
  {
   "cell_type": "code",
   "execution_count": 10,
   "id": "b8034923",
   "metadata": {
    "execution": {
     "iopub.execute_input": "2023-03-14T12:52:35.027078Z",
     "iopub.status.busy": "2023-03-14T12:52:35.026718Z",
     "iopub.status.idle": "2023-03-14T12:52:35.035673Z",
     "shell.execute_reply": "2023-03-14T12:52:35.034777Z"
    },
    "papermill": {
     "duration": 0.032996,
     "end_time": "2023-03-14T12:52:35.037610",
     "exception": false,
     "start_time": "2023-03-14T12:52:35.004614",
     "status": "completed"
    },
    "tags": []
   },
   "outputs": [
    {
     "data": {
      "text/plain": [
       "ph                 491\n",
       "Hardness             0\n",
       "Solids               0\n",
       "Chloramines          0\n",
       "Sulfate            781\n",
       "Conductivity         0\n",
       "Organic_carbon       0\n",
       "Trihalomethanes    162\n",
       "Turbidity            0\n",
       "Potability           0\n",
       "dtype: int64"
      ]
     },
     "execution_count": 10,
     "metadata": {},
     "output_type": "execute_result"
    }
   ],
   "source": [
    "df.isnull().sum()"
   ]
  },
  {
   "cell_type": "code",
   "execution_count": 11,
   "id": "d7682c76",
   "metadata": {},
   "outputs": [
    {
     "data": {
      "text/plain": [
       "(3276, 10)"
      ]
     },
     "execution_count": 11,
     "metadata": {},
     "output_type": "execute_result"
    }
   ],
   "source": [
    "df.shape"
   ]
  },
  {
   "cell_type": "code",
   "execution_count": 12,
   "id": "0167fda5",
   "metadata": {},
   "outputs": [],
   "source": [
    "def Remove_Outlier_Indices(df):\n",
    "    Q1 = df.quantile(0.25)\n",
    "    Q3 = df.quantile(0.75)\n",
    "    IQR = Q3 - Q1\n",
    "    trueList = ~((df < (Q1 - 1.5 * IQR)) |(df > (Q3 + 1.5 * IQR)))\n",
    "    return trueList"
   ]
  },
  {
   "cell_type": "code",
   "execution_count": 13,
   "id": "30f812e9",
   "metadata": {},
   "outputs": [],
   "source": [
    "# Index List of Non-Outliers\n",
    "nonOutlierList = Remove_Outlier_Indices(df)\n",
    "\n",
    "# Non-Outlier Subset of the Given Dataset\n",
    "df = df[nonOutlierList]"
   ]
  },
  {
   "cell_type": "code",
   "execution_count": 14,
   "id": "0a9e69bf",
   "metadata": {},
   "outputs": [
    {
     "data": {
      "text/plain": [
       "ph                 537\n",
       "Hardness            83\n",
       "Solids              47\n",
       "Chloramines         61\n",
       "Sulfate            822\n",
       "Conductivity        11\n",
       "Organic_carbon      25\n",
       "Trihalomethanes    195\n",
       "Turbidity           19\n",
       "Potability           0\n",
       "dtype: int64"
      ]
     },
     "execution_count": 14,
     "metadata": {},
     "output_type": "execute_result"
    }
   ],
   "source": [
    "df.isnull().sum()"
   ]
  },
  {
   "cell_type": "code",
   "execution_count": 15,
   "id": "59a63ba7",
   "metadata": {},
   "outputs": [
    {
     "data": {
      "text/plain": [
       "(3276, 10)"
      ]
     },
     "execution_count": 15,
     "metadata": {},
     "output_type": "execute_result"
    }
   ],
   "source": [
    "df.shape"
   ]
  },
  {
   "cell_type": "code",
   "execution_count": 16,
   "id": "4ab800ee",
   "metadata": {
    "execution": {
     "iopub.execute_input": "2023-03-14T12:52:35.079672Z",
     "iopub.status.busy": "2023-03-14T12:52:35.079292Z",
     "iopub.status.idle": "2023-03-14T12:52:35.087127Z",
     "shell.execute_reply": "2023-03-14T12:52:35.085886Z"
    },
    "papermill": {
     "duration": 0.031195,
     "end_time": "2023-03-14T12:52:35.089056",
     "exception": false,
     "start_time": "2023-03-14T12:52:35.057861",
     "status": "completed"
    },
    "tags": []
   },
   "outputs": [],
   "source": [
    "# # # handle missing value with average of features\n",
    "df[\"ph\"].fillna(value = df[\"ph\"].median(), inplace = True)\n",
    "df[\"Sulfate\"].fillna(value = df[\"Sulfate\"].median(), inplace = True)\n",
    "df[\"Trihalomethanes\"].fillna(value = df[\"Trihalomethanes\"].median(), inplace = True)\n",
    "df[\"Hardness\"].fillna(value = df[\"Hardness\"].median(), inplace = True)\n",
    "df[\"Solids\"].fillna(value = df[\"Solids\"].median(), inplace = True)\n",
    "df[\"Chloramines\"].fillna(value = df[\"Chloramines\"].median(), inplace = True)\n",
    "df[\"Conductivity\"].fillna(value = df[\"Conductivity\"].median(), inplace = True)\n",
    "df[\"Organic_carbon\"].fillna(value = df[\"Organic_carbon\"].median(), inplace = True)\n",
    "df[\"Turbidity\"].fillna(value = df[\"Turbidity\"].median(), inplace = True)\n",
    "#df=df.dropna()"
   ]
  },
  {
   "cell_type": "code",
   "execution_count": 17,
   "id": "0f0c815d",
   "metadata": {},
   "outputs": [
    {
     "data": {
      "text/plain": [
       "(3276, 10)"
      ]
     },
     "execution_count": 17,
     "metadata": {},
     "output_type": "execute_result"
    }
   ],
   "source": [
    "df.shape"
   ]
  },
  {
   "cell_type": "code",
   "execution_count": 18,
   "id": "b4270596",
   "metadata": {
    "execution": {
     "iopub.execute_input": "2023-03-14T12:52:35.132280Z",
     "iopub.status.busy": "2023-03-14T12:52:35.131227Z",
     "iopub.status.idle": "2023-03-14T12:52:35.140208Z",
     "shell.execute_reply": "2023-03-14T12:52:35.138953Z"
    },
    "papermill": {
     "duration": 0.032863,
     "end_time": "2023-03-14T12:52:35.142203",
     "exception": false,
     "start_time": "2023-03-14T12:52:35.109340",
     "status": "completed"
    },
    "tags": []
   },
   "outputs": [
    {
     "data": {
      "text/plain": [
       "ph                 0\n",
       "Hardness           0\n",
       "Solids             0\n",
       "Chloramines        0\n",
       "Sulfate            0\n",
       "Conductivity       0\n",
       "Organic_carbon     0\n",
       "Trihalomethanes    0\n",
       "Turbidity          0\n",
       "Potability         0\n",
       "dtype: int64"
      ]
     },
     "execution_count": 18,
     "metadata": {},
     "output_type": "execute_result"
    }
   ],
   "source": [
    "df.isnull().sum()"
   ]
  },
  {
   "cell_type": "code",
   "execution_count": 19,
   "id": "6e0b5a5b",
   "metadata": {
    "execution": {
     "iopub.execute_input": "2023-03-14T12:52:35.227765Z",
     "iopub.status.busy": "2023-03-14T12:52:35.227355Z",
     "iopub.status.idle": "2023-03-14T12:52:35.233386Z",
     "shell.execute_reply": "2023-03-14T12:52:35.232358Z"
    },
    "papermill": {
     "duration": 0.030387,
     "end_time": "2023-03-14T12:52:35.235369",
     "exception": false,
     "start_time": "2023-03-14T12:52:35.204982",
     "status": "completed"
    },
    "tags": []
   },
   "outputs": [],
   "source": [
    "X = df.drop(\"Potability\", axis = 1).values\n",
    "y = df[\"Potability\"].values"
   ]
  },
  {
   "cell_type": "code",
   "execution_count": 20,
   "id": "43e4892a",
   "metadata": {},
   "outputs": [
    {
     "data": {
      "text/plain": [
       "(3276, 9)"
      ]
     },
     "execution_count": 20,
     "metadata": {},
     "output_type": "execute_result"
    }
   ],
   "source": [
    "X.shape"
   ]
  },
  {
   "cell_type": "code",
   "execution_count": 21,
   "id": "806365b2",
   "metadata": {},
   "outputs": [],
   "source": [
    "oversample = SMOTE()\n",
    "X, y = oversample.fit_resample(X, y)"
   ]
  },
  {
   "cell_type": "code",
   "execution_count": 22,
   "id": "eaf4b673",
   "metadata": {},
   "outputs": [
    {
     "data": {
      "text/plain": [
       "(3996, 9)"
      ]
     },
     "execution_count": 22,
     "metadata": {},
     "output_type": "execute_result"
    }
   ],
   "source": [
    "X.shape"
   ]
  },
  {
   "cell_type": "code",
   "execution_count": 23,
   "id": "0aa6bbfa",
   "metadata": {},
   "outputs": [
    {
     "name": "stdout",
     "output_type": "stream",
     "text": [
      "Counter({0: 1998, 1: 1998})\n"
     ]
    },
    {
     "data": {
      "image/png": "[encoded data removed]",
      "text/plain": [
       "<Figure size 640x480 with 1 Axes>"
      ]
     },
     "metadata": {},
     "output_type": "display_data"
    }
   ],
   "source": [
    "counter = Counter(y)\n",
    "print(counter)\n",
    "# scatter plot of examples by class label\n",
    "for label, _ in counter.items():\n",
    "    row_ix = where(y == label)[0]\n",
    "    pyplot.scatter(X[row_ix, 0], X[row_ix, 1], label=str(label))\n",
    "pyplot.legend()\n",
    "pyplot.show()"
   ]
  },
  {
   "cell_type": "code",
   "execution_count": 24,
   "id": "1bcd89ff",
   "metadata": {
    "execution": {
     "iopub.execute_input": "2023-03-14T12:52:35.278594Z",
     "iopub.status.busy": "2023-03-14T12:52:35.277768Z",
     "iopub.status.idle": "2023-03-14T12:52:35.285961Z",
     "shell.execute_reply": "2023-03-14T12:52:35.284919Z"
    },
    "papermill": {
     "duration": 0.031744,
     "end_time": "2023-03-14T12:52:35.287801",
     "exception": false,
     "start_time": "2023-03-14T12:52:35.256057",
     "status": "completed"
    },
    "tags": []
   },
   "outputs": [
    {
     "name": "stdout",
     "output_type": "stream",
     "text": [
      "X_train (3196, 9)\n",
      "X_test (800, 9)\n",
      "y_train (3196,)\n",
      "y_test (800,)\n"
     ]
    }
   ],
   "source": [
    "# train test split\n",
    "X_train, X_test, y_train, y_test = train_test_split(X, y, test_size = 0.2, random_state = 3)\n",
    "print(\"X_train\",X_train.shape)\n",
    "print(\"X_test\",X_test.shape)\n",
    "print(\"y_train\",y_train.shape)\n",
    "print(\"y_test\",y_test.shape)"
   ]
  },
  {
   "cell_type": "code",
   "execution_count": 25,
   "id": "83e065d9",
   "metadata": {
    "execution": {
     "iopub.execute_input": "2023-03-14T12:52:35.330883Z",
     "iopub.status.busy": "2023-03-14T12:52:35.330255Z",
     "iopub.status.idle": "2023-03-14T12:52:35.335742Z",
     "shell.execute_reply": "2023-03-14T12:52:35.334773Z"
    },
    "papermill": {
     "duration": 0.030306,
     "end_time": "2023-03-14T12:52:35.338553",
     "exception": false,
     "start_time": "2023-03-14T12:52:35.308247",
     "status": "completed"
    },
    "tags": []
   },
   "outputs": [],
   "source": [
    "x_train_max = np.max(X_train)\n",
    "x_train_min = np.min(X_train)\n",
    "X_train = (X_train - x_train_min)/(x_train_max-x_train_min)\n",
    "X_test = (X_test - x_train_min)/(x_train_max-x_train_min)"
   ]
  },
  {
   "cell_type": "code",
   "execution_count": 28,
   "id": "5b8bacd9",
   "metadata": {
    "execution": {
     "iopub.execute_input": "2023-03-14T12:52:35.436294Z",
     "iopub.status.busy": "2023-03-14T12:52:35.435220Z",
     "iopub.status.idle": "2023-03-14T12:52:35.442288Z",
     "shell.execute_reply": "2023-03-14T12:52:35.440597Z"
    },
    "papermill": {
     "duration": 0.038352,
     "end_time": "2023-03-14T12:52:35.444954",
     "exception": false,
     "start_time": "2023-03-14T12:52:35.406602",
     "status": "completed"
    },
    "tags": []
   },
   "outputs": [],
   "source": [
    "model =RandomForestClassifier()"
   ]
  },
  {
   "cell_type": "code",
   "execution_count": 31,
   "id": "b2ca0e1e",
   "metadata": {
    "execution": {
     "iopub.execute_input": "2023-03-14T12:52:35.493262Z",
     "iopub.status.busy": "2023-03-14T12:52:35.492901Z",
     "iopub.status.idle": "2023-03-14T12:52:36.443891Z",
     "shell.execute_reply": "2023-03-14T12:52:36.442913Z"
    },
    "papermill": {
     "duration": 0.975167,
     "end_time": "2023-03-14T12:52:36.445894",
     "exception": false,
     "start_time": "2023-03-14T12:52:35.470727",
     "status": "completed"
    },
    "tags": []
   },
   "outputs": [
    {
     "data": {
      "text/plain": [
       "[0.72]"
      ]
     },
     "execution_count": 31,
     "metadata": {},
     "output_type": "execute_result"
    }
   ],
   "source": [
    "finalResults = []\n",
    "cmList = []\n",
    "model.fit(X_train, y_train) # train\n",
    "model_result = model.predict(X_test) # prediction\n",
    "score = accuracy_score(y_test, model_result)\n",
    "cm = confusion_matrix(y_test, model_result)\n",
    "\n",
    "finalResults.append(score)\n",
    "cmList.append(cm)\n",
    "finalResults"
   ]
  },
  {
   "cell_type": "code",
   "execution_count": 32,
   "id": "0c634dd1",
   "metadata": {},
   "outputs": [],
   "source": [
    "# lr_model = LogisticRegression()\n",
    "# lr_model.fit(X_train, y_train)\n",
    "\n",
    "# # Make predictions on the testing data\n",
    "# y_pred = lr_model.predict(X_test)\n",
    "\n",
    "# # Evaluate the model's accuracy\n",
    "# accuracy = accuracy_score(y_test, y_pred)\n",
    "# print(accuracy)"
   ]
  },
  {
   "cell_type": "code",
   "execution_count": 34,
   "id": "8fec8edf",
   "metadata": {
    "execution": {
     "iopub.execute_input": "2023-03-14T12:52:36.489046Z",
     "iopub.status.busy": "2023-03-14T12:52:36.488743Z",
     "iopub.status.idle": "2023-03-14T12:52:36.846674Z",
     "shell.execute_reply": "2023-03-14T12:52:36.845504Z"
    },
    "papermill": {
     "duration": 0.382154,
     "end_time": "2023-03-14T12:52:36.848864",
     "exception": false,
     "start_time": "2023-03-14T12:52:36.466710",
     "status": "completed"
    },
    "tags": []
   },
   "outputs": [
    {
     "name": "stderr",
     "output_type": "stream",
     "text": [
      "C:\\ProgramData\\Anaconda3\\lib\\site-packages\\matplotlib\\text.py:1223: FutureWarning: elementwise comparison failed; returning scalar instead, but in the future will perform elementwise comparison\n",
      "  if s != self._text:\n"
     ]
    },
    {
     "data": {
      "image/png": "[encoded data removed]",
      "text/plain": [
       "<Figure size 640x480 with 2 Axes>"
      ]
     },
     "metadata": {},
     "output_type": "display_data"
    }
   ],
   "source": [
    "for i in cmList:\n",
    "    plt.figure()\n",
    "    sns.heatmap(i, annot = True, linewidths = 0.8, fmt = \".1f\")\n",
    "    plt.title(name)\n",
    "    plt.show()"
   ]
  },
  {
   "cell_type": "code",
   "execution_count": 40,
   "id": "4647989b",
   "metadata": {
    "execution": {
     "iopub.execute_input": "2023-03-14T12:52:36.936821Z",
     "iopub.status.busy": "2023-03-14T12:52:36.935486Z",
     "iopub.status.idle": "2023-03-14T12:52:36.946608Z",
     "shell.execute_reply": "2023-03-14T12:52:36.945603Z"
    },
    "papermill": {
     "duration": 0.03576,
     "end_time": "2023-03-14T12:52:36.948520",
     "exception": false,
     "start_time": "2023-03-14T12:52:36.912760",
     "status": "completed"
    },
    "tags": []
   },
   "outputs": [
    {
     "data": {
      "text/plain": [
       "RandomForestClassifier()"
      ]
     },
     "execution_count": 40,
     "metadata": {},
     "output_type": "execute_result"
    }
   ],
   "source": [
    "dt_clf = model\n",
    "dt_clf"
   ]
  },
  {
   "cell_type": "code",
   "execution_count": 41,
   "id": "1dd7f476",
   "metadata": {
    "execution": {
     "iopub.execute_input": "2023-03-14T12:52:38.001014Z",
     "iopub.status.busy": "2023-03-14T12:52:37.999700Z",
     "iopub.status.idle": "2023-03-14T12:52:38.014754Z",
     "shell.execute_reply": "2023-03-14T12:52:38.013764Z"
    },
    "papermill": {
     "duration": 0.043383,
     "end_time": "2023-03-14T12:52:38.016815",
     "exception": false,
     "start_time": "2023-03-14T12:52:37.973432",
     "status": "completed"
    },
    "tags": []
   },
   "outputs": [
    {
     "data": {
      "text/plain": [
       "{'Random Forest': {'model': RandomForestClassifier(),\n",
       "  'params': {'n_estimators': [10, 50, 100],\n",
       "   'max_features': ['auto', 'sqrt', 'log2'],\n",
       "   'max_depth': [1, 4, 7, 10, 13, 16, 19]}},\n",
       " 'GBM': {'model': GradientBoostingRegressor(),\n",
       "  'params': {'learning_rate': [0.001, 0.01, 0.1, 0.2],\n",
       "   'max_depth': [1, 4, 7, 10, 13, 16, 19],\n",
       "   'n_estimators': [200, 500, 1000, 2000],\n",
       "   'subsample': [1, 0.5, 0.75]}}}"
      ]
     },
     "execution_count": 41,
     "metadata": {},
     "output_type": "execute_result"
    }
   ],
   "source": [
    "model_params = {\n",
    "    \"Random Forest\":\n",
    "    {\n",
    "        \"model\":RandomForestClassifier(),\n",
    "        \"params\":\n",
    "        {\n",
    "            \"n_estimators\":[10, 50, 100],\n",
    "            \"max_features\":[\"auto\",\"sqrt\",\"log2\"],\n",
    "            \"max_depth\":list(range(1,21,3))\n",
    "        }\n",
    "    },\n",
    "#     \"XGBoost\":\n",
    "#     {\n",
    "#         \"model\":XGBClassifier(),\n",
    "#         \"params\":\n",
    "#         {\n",
    "#             \"colsample_bytree\":[0.6, 0.8, 1],\n",
    "#             \"learning_rate\":[0.1, 0.2, 0.01],\n",
    "#             \"max_depth\":list(range(1,21,3)),\n",
    "#             \"n_estimators\":[100,200,500]\n",
    "#         }\n",
    "#     },\n",
    "    \"GBM\":\n",
    "    {\n",
    "        \"model\": GradientBoostingRegressor(),\n",
    "        \"params\":\n",
    "        {\n",
    "            \"learning_rate\":[0.001, 0.01, 0.1, 0.2],\n",
    "            \"max_depth\":list(range(1,21,3)),\n",
    "            \"n_estimators\":[200, 500, 1000, 2000],\n",
    "            \"subsample\":[1, 0.5, 0.75]\n",
    "        }\n",
    "    }\n",
    "}\n",
    "model_params"
   ]
  },
  {
   "cell_type": "code",
   "execution_count": null,
   "id": "d55de965",
   "metadata": {
    "execution": {
     "iopub.execute_input": "2023-03-14T12:52:38.068722Z",
     "iopub.status.busy": "2023-03-14T12:52:38.068234Z",
     "iopub.status.idle": "2023-03-14T13:09:32.318299Z",
     "shell.execute_reply": "2023-03-14T13:09:32.317026Z"
    },
    "papermill": {
     "duration": 1014.303674,
     "end_time": "2023-03-14T13:09:32.345704",
     "exception": false,
     "start_time": "2023-03-14T12:52:38.042030",
     "status": "completed"
    },
    "tags": []
   },
   "outputs": [],
   "source": [
    "cv = RepeatedStratifiedKFold(n_splits =5 , n_repeats = 2)\n",
    "scores = []\n",
    "for model_name, params in model_params.items():\n",
    "    rs = RandomizedSearchCV(params[\"model\"], params[\"params\"], cv = cv, n_iter = 10)\n",
    "    rs.fit(X,y)\n",
    "    scores.append([model_name, dict(rs.best_params_),rs.best_score_])\n",
    "scores"
   ]
  },
  {
   "cell_type": "code",
   "execution_count": null,
   "id": "da563037",
   "metadata": {},
   "outputs": [],
   "source": []
  }
 ],
 "metadata": {
  "kernelspec": {
   "display_name": "Python 3 (ipykernel)",
   "language": "python",
   "name": "python3"
  },
  "language_info": {
   "codemirror_mode": {
    "name": "ipython",
    "version": 3
   },
   "file_extension": ".py",
   "mimetype": "text/x-python",
   "name": "python",
   "nbconvert_exporter": "python",
   "pygments_lexer": "ipython3",
   "version": "3.9.13"
  },
  "papermill": {
   "default_parameters": {},
   "duration": 1036.520639,
   "end_time": "2023-03-14T13:09:33.696507",
   "environment_variables": {},
   "exception": null,
   "input_path": "__notebook__.ipynb",
   "output_path": "__notebook__.ipynb",
   "parameters": {},
   "start_time": "2023-03-14T12:52:17.175868",
   "version": "2.4.0"
  }
 },
 "nbformat": 4,
 "nbformat_minor": 5
}
